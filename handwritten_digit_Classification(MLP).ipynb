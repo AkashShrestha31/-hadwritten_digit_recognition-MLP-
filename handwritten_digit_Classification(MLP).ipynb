{
 "cells": [
  {
   "cell_type": "markdown",
   "metadata": {},
   "source": [
    "# Importing Dependencies"
   ]
  },
  {
   "cell_type": "code",
   "execution_count": 17,
   "metadata": {},
   "outputs": [],
   "source": [
    "import pandas as pd\n",
    "import numpy as np\n",
    "import matplotlib.pyplot as plt\n",
    "import scipy.misc\n",
    "import tensorflow as tf"
   ]
  },
  {
   "cell_type": "markdown",
   "metadata": {},
   "source": [
    "# Preparing Training datasets"
   ]
  },
  {
   "cell_type": "code",
   "execution_count": 2,
   "metadata": {},
   "outputs": [
    {
     "name": "stdout",
     "output_type": "stream",
     "text": [
      "[1 0 1 ... 7 6 9]\n",
      "(42000, 28, 28)\n"
     ]
    },
    {
     "data": {
      "image/png": "[encoded data removed]",
      "text/plain": [
       "<Figure size 432x288 with 1 Axes>"
      ]
     },
     "metadata": {},
     "output_type": "display_data"
    },
    {
     "name": "stdout",
     "output_type": "stream",
     "text": [
      "(42000, 784)\n",
      "(42000, 28, 28)\n"
     ]
    }
   ],
   "source": [
    "data=pd.read_csv(\"./train.csv\")\n",
    "data_y=data[\"label\"]\n",
    "data_y=np.array(data_y)\n",
    "# data_y=np.reshape(data_y,(42000,1))\n",
    "print(data_y)\n",
    "\n",
    "\n",
    "data_X=data.drop(columns=['label'])\n",
    "data_X=np.array(data_X)\n",
    "\n",
    "\n",
    "display=np.reshape(data_X,(42000,28,28))\n",
    "print(display.shape)\n",
    "plt.imshow(display[1,:,:])\n",
    "plt.show()\n",
    "print(data_X.shape)\n",
    "print(display.shape)"
   ]
  },
  {
   "cell_type": "markdown",
   "metadata": {},
   "source": [
    "# preparing Test set data"
   ]
  },
  {
   "cell_type": "code",
   "execution_count": 3,
   "metadata": {},
   "outputs": [
    {
     "data": {
      "text/plain": [
       "(28000, 784)"
      ]
     },
     "execution_count": 3,
     "metadata": {},
     "output_type": "execute_result"
    }
   ],
   "source": [
    "test_X=pd.read_csv(\"./test.csv\")\n",
    "test_X=np.array(test_X)\n",
    "test_X.shape"
   ]
  },
  {
   "cell_type": "markdown",
   "metadata": {},
   "source": [
    "# Displaying random 10 images"
   ]
  },
  {
   "cell_type": "code",
   "execution_count": 4,
   "metadata": {},
   "outputs": [
    {
     "name": "stderr",
     "output_type": "stream",
     "text": [
      "c:\\users\\ak\\appdata\\local\\programs\\python\\python36\\lib\\site-packages\\matplotlib\\cbook\\deprecation.py:107: MatplotlibDeprecationWarning: Passing one of 'on', 'true', 'off', 'false' as a boolean is deprecated; use an actual boolean (True/False) instead.\n",
      "  warnings.warn(message, mplDeprecation, stacklevel=1)\n"
     ]
    },
    {
     "data": {
      "image/png": "[encoded data removed]",
      "text/plain": [
       "<Figure size 648x288 with 10 Axes>"
      ]
     },
     "metadata": {},
     "output_type": "display_data"
    }
   ],
   "source": [
    "cols=5\n",
    "rows=2\n",
    "fig=plt.figure(figsize=(2*cols-1,2.5*rows-1))\n",
    "for i in range(cols):\n",
    "    for j in range(rows):\n",
    "        random_index=np.random.randint(0,len(data_y))\n",
    "        ax=fig.add_subplot(rows,cols,i*rows+j+1)\n",
    "        ax.grid('off')\n",
    "        ax.axis('off')\n",
    "        ax.imshow(display[random_index,:])\n",
    "        ax.set_title(data_y[random_index])\n",
    "plt.show()"
   ]
  },
  {
   "cell_type": "markdown",
   "metadata": {},
   "source": [
    "# converting label data_y in onehot matrix"
   ]
  },
  {
   "cell_type": "code",
   "execution_count": 5,
   "metadata": {},
   "outputs": [],
   "source": [
    "data_y=tf.one_hot(indices=data_y,depth=10,axis=1)"
   ]
  },
  {
   "cell_type": "code",
   "execution_count": 6,
   "metadata": {},
   "outputs": [],
   "source": [
    "with tf.Session() as sess:\n",
    "    data_y=sess.run(data_y)"
   ]
  },
  {
   "cell_type": "markdown",
   "metadata": {},
   "source": [
    "# Creating mini_batches"
   ]
  },
  {
   "cell_type": "code",
   "execution_count": 7,
   "metadata": {},
   "outputs": [],
   "source": [
    "def mini_batches(batch_size,seed):\n",
    "    np.random.seed(seed)\n",
    "    batch_list=[]\n",
    "    no_of_batches=int(data_X.shape[0]/batch_size)\n",
    "    permutation=list(np.random.permutation(data_X.shape[0]))\n",
    "    X_suffled=data_X[permutation,:]\n",
    "    Y_suffled=data_y[permutation,:]\n",
    "    for i in range(no_of_batches):\n",
    "        mini_batches_X=X_suffled[i*batch_size:(i+1)*batch_size,:]\n",
    "        mini_batches_Y=Y_suffled[i*batch_size:(i+1)*batch_size,:]\n",
    "        batch=(mini_batches_X,mini_batches_Y)\n",
    "        batch_list.append(batch)\n",
    "    if data_X.shape[0]%no_of_batches!=0:\n",
    "        mini_batches_X=X_suffled[i*batch_size:(i+1)*batch_size,:]\n",
    "        mini_batches_Y=Y_suffled[i*batch_size:(i+1)*batch_size,:]\n",
    "        batch=(mini_batches_X,mini_batches_Y)\n",
    "        batch_list.append(batch)\n",
    "    return batch_list\n"
   ]
  },
  {
   "cell_type": "markdown",
   "metadata": {},
   "source": [
    "# creating placeholder and defining the layers "
   ]
  },
  {
   "cell_type": "code",
   "execution_count": 8,
   "metadata": {},
   "outputs": [],
   "source": [
    "tf.reset_default_graph()"
   ]
  },
  {
   "cell_type": "code",
   "execution_count": 9,
   "metadata": {},
   "outputs": [],
   "source": [
    "X=tf.placeholder(tf.float32,[None,784])\n",
    "y=tf.placeholder(tf.float32,[None,10])"
   ]
  },
  {
   "cell_type": "code",
   "execution_count": 10,
   "metadata": {},
   "outputs": [],
   "source": [
    "A1=tf.layers.dense(X,256,activation=tf.nn.relu)\n",
    "A2=tf.layers.dense(A1,64,activation=tf.nn.relu)\n",
    "A3=tf.layers.dense(A2,30,activation=tf.nn.relu)\n",
    "A4=tf.layers.dense(A3,10,activation=None)\n",
    "probs=tf.nn.softmax(A4)\n",
    "classes=tf.argmax(probs,axis=1)"
   ]
  },
  {
   "cell_type": "code",
   "execution_count": 11,
   "metadata": {},
   "outputs": [
    {
     "name": "stdout",
     "output_type": "stream",
     "text": [
      "WARNING:tensorflow:From <ipython-input-11-c5e48dd8f616>:1: softmax_cross_entropy_with_logits (from tensorflow.python.ops.nn_ops) is deprecated and will be removed in a future version.\n",
      "Instructions for updating:\n",
      "\n",
      "Future major versions of TensorFlow will allow gradients to flow\n",
      "into the labels input on backprop by default.\n",
      "\n",
      "See @{tf.nn.softmax_cross_entropy_with_logits_v2}.\n",
      "\n"
     ]
    }
   ],
   "source": [
    "cost=tf.reduce_mean(tf.nn.softmax_cross_entropy_with_logits(logits=A4,labels=y))"
   ]
  },
  {
   "cell_type": "markdown",
   "metadata": {},
   "source": [
    "# using AdamOptizer which is the combination of RMS prop and Momentum for faster optimization"
   ]
  },
  {
   "cell_type": "code",
   "execution_count": 12,
   "metadata": {},
   "outputs": [],
   "source": [
    "optimizer=tf.train.AdamOptimizer(0.001).minimize(cost)"
   ]
  },
  {
   "cell_type": "code",
   "execution_count": 13,
   "metadata": {},
   "outputs": [],
   "source": [
    "init=tf.global_variables_initializer()"
   ]
  },
  {
   "cell_type": "markdown",
   "metadata": {},
   "source": [
    "# Creating Session to run the tensorflow model"
   ]
  },
  {
   "cell_type": "code",
   "execution_count": 14,
   "metadata": {},
   "outputs": [],
   "source": [
    "sess=tf.Session()\n",
    "sess.run(init)"
   ]
  },
  {
   "cell_type": "markdown",
   "metadata": {},
   "source": [
    "# Training the data using tensorflow model"
   ]
  },
  {
   "cell_type": "code",
   "execution_count": 15,
   "metadata": {},
   "outputs": [
    {
     "name": "stdout",
     "output_type": "stream",
     "text": [
      "accuracy:  0.85316664\n",
      "1.5198551\n",
      "accuracy:  0.91045237\n",
      "0.4695527\n",
      "accuracy:  0.945\n",
      "0.29187357\n",
      "accuracy:  0.94090474\n",
      "0.20407517\n",
      "accuracy:  0.9705476\n",
      "0.15309002\n",
      "accuracy:  0.97578573\n",
      "0.1256419\n",
      "accuracy:  0.97885716\n",
      "0.10713565\n",
      "accuracy:  0.9676667\n",
      "0.09478562\n",
      "accuracy:  0.98564285\n",
      "0.08294137\n",
      "accuracy:  0.9821905\n",
      "0.071579926\n",
      "accuracy:  0.98761904\n",
      "0.068069264\n",
      "accuracy:  0.9847381\n",
      "0.05860807\n",
      "accuracy:  0.98111904\n",
      "0.054504205\n",
      "accuracy:  0.9898095\n",
      "0.048123103\n",
      "accuracy:  0.988619\n",
      "0.053291976\n",
      "accuracy:  0.98971426\n",
      "0.048441377\n",
      "accuracy:  0.9912381\n",
      "0.04199324\n",
      "accuracy:  0.9920238\n",
      "0.035645593\n",
      "accuracy:  0.98795235\n",
      "0.03786062\n",
      "accuracy:  0.9914524\n",
      "0.03626028\n",
      "accuracy:  0.9942381\n",
      "0.031932123\n",
      "accuracy:  0.9931667\n",
      "0.030418985\n",
      "accuracy:  0.99509525\n",
      "0.033210088\n",
      "accuracy:  0.9888333\n",
      "0.0275069\n",
      "accuracy:  0.99430954\n",
      "0.028802514\n",
      "accuracy:  0.989\n",
      "0.019917937\n",
      "accuracy:  0.9929048\n",
      "0.028581463\n",
      "accuracy:  0.9892857\n",
      "0.0267306\n",
      "accuracy:  0.99414283\n",
      "0.030122783\n",
      "accuracy:  0.9942857\n",
      "0.01902798\n",
      "accuracy:  0.9917857\n",
      "0.027342545\n",
      "accuracy:  0.99583334\n",
      "0.022950105\n",
      "accuracy:  0.9942381\n",
      "0.018248409\n",
      "accuracy:  0.99595237\n",
      "0.019870484\n",
      "accuracy:  0.9965714\n",
      "0.01896378\n",
      "accuracy:  0.99564284\n",
      "0.018627198\n",
      "accuracy:  0.9949524\n",
      "0.02149431\n",
      "accuracy:  0.9965714\n",
      "0.017111879\n",
      "accuracy:  0.99628574\n",
      "0.017980935\n",
      "accuracy:  0.99247617\n",
      "0.023531107\n"
     ]
    }
   ],
   "source": [
    "seed=0\n",
    "num_epoches=40\n",
    "batch_size=64\n",
    "for epoch in range(num_epoches):\n",
    "    batch_losses=[]\n",
    "    batches=mini_batches(batch_size,seed)\n",
    "    seed=seed+1\n",
    "    for batch in batches:\n",
    "        mini_X,mini_y=batch\n",
    "        _,error_cost=sess.run([optimizer,cost],feed_dict={X:mini_X,y:mini_y})\n",
    "        batch_losses.append(error_cost)\n",
    "    correct_prediction=tf.equal(tf.argmax(A4,1),tf.argmax(data_y,1))\n",
    "    accuracy=tf.reduce_mean(tf.cast(correct_prediction,\"float\"))\n",
    "    print(\"accuracy: \",accuracy.eval({X:data_X,y:data_y},session=sess))\n",
    "    train_loss=np.mean(batch_losses)\n",
    "    print(train_loss)\n",
    "        "
   ]
  },
  {
   "cell_type": "markdown",
   "metadata": {},
   "source": [
    "# Testing list of the data and displaying the results\n"
   ]
  },
  {
   "cell_type": "code",
   "execution_count": 16,
   "metadata": {},
   "outputs": [
    {
     "name": "stderr",
     "output_type": "stream",
     "text": [
      "c:\\users\\ak\\appdata\\local\\programs\\python\\python36\\lib\\site-packages\\matplotlib\\cbook\\deprecation.py:107: MatplotlibDeprecationWarning: Passing one of 'on', 'true', 'off', 'false' as a boolean is deprecated; use an actual boolean (True/False) instead.\n",
      "  warnings.warn(message, mplDeprecation, stacklevel=1)\n"
     ]
    },
    {
     "data": {
      "image/png": "[encoded data removed]",
      "text/plain": [
       "<Figure size 648x288 with 10 Axes>"
      ]
     },
     "metadata": {},
     "output_type": "display_data"
    }
   ],
   "source": [
    "cols=5\n",
    "rows=2\n",
    "fig=plt.figure(figsize=(2*cols-1,2.5*rows-1))\n",
    "for i in range(cols):\n",
    "    for j in range(rows):\n",
    "        random_index=np.random.randint(0,28000)\n",
    "        ax=fig.add_subplot(rows,cols,i*rows+j+1)\n",
    "        ax.grid('off')\n",
    "        ax.axis('off')\n",
    "        display=np.reshape(test_X,(28000,28,28))\n",
    "        ax.imshow(display[random_index,:])\n",
    "        prediction=tf.argmax(A4,1)\n",
    "        prediction=prediction.eval({X:test_X},session=sess)\n",
    "        ax.set_title(prediction[random_index])\n",
    "plt.show()\n",
    "\n"
   ]
  }
 ],
 "metadata": {
  "kernelspec": {
   "display_name": "Python 3",
   "language": "python",
   "name": "python3"
  },
  "language_info": {
   "codemirror_mode": {
    "name": "ipython",
    "version": 3
   },
   "file_extension": ".py",
   "mimetype": "text/x-python",
   "name": "python",
   "nbconvert_exporter": "python",
   "pygments_lexer": "ipython3",
   "version": "3.6.2"
  }
 },
 "nbformat": 4,
 "nbformat_minor": 2
}
